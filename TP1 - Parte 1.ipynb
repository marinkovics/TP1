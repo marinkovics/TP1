{
 "cells": [
  {
   "cell_type": "markdown",
   "metadata": {
    "collapsed": true
   },
   "source": [
    "# Curso de Big Data\n",
    "\n",
    "## Trabajo Practico 1 - Parte 1"
   ]
  },
  {
   "cell_type": "markdown",
   "metadata": {},
   "source": [
    "### Reglas de formato y presentación\n",
    "- El trabajo debe estar bien comentado (utilizando #) para que el codigo sea facíl de entender por sus compañeros y profesores.\n",
    "\n",
    "- El mismo debe ser completado en este Jupyter Notebook y entregado como tal, es decir en un archivo .ipynb\n"
   ]
  },
  {
   "cell_type": "markdown",
   "metadata": {},
   "source": [
    "### Fecha de entrega:\n",
    "Lunes 23/8 a las 23:59hs"
   ]
  },
  {
   "cell_type": "markdown",
   "metadata": {},
   "source": [
    "### Modalidad de entrega\n",
    "- Al finalizar el trabajo práctico deben hacer un último <i>commit</i> en su repositorio de GitHub con el mensaje “Entrega final del tp”. \n",
    "- Asegurense de haber creado una carpeta llamada TP1. Este Jupyter Notebook y el correspondiente al TP1 - Parte 2 deben estar dentro de esa carpeta.\n",
    "- Tambíen deben completar el link de su repositorio -para que pueda ser clonado y corregido- en la siguiente google sheet: https://docs.google.com/spreadsheets/d/1qaXCveEw3MjEwXQsu2zpqUz34BiaCMR0WapcsQ7jGs0/edit?usp=sharing\n",
    "- La última versión en el repositorio es la que será evaluada. Por lo que es importante que: \n",
    "    - No completen la google sheet hasta no haber terminado y estar seguros de que han hecho el <i>commit y push</i> a la versión final que quieren entregar. Debido a que se pueden tomar hasta 3 días de extensión a lo largo del curso, yo no corregiré sus tareas hasta no ver el link en la google sheet.\n",
    "    - No hagan nuevos <i>push</i> despues de habér entregado su versión final. Esto generaría confusión acerca de que versión es la que quieren que se les corrija. "
   ]
  },
  {
   "cell_type": "markdown",
   "metadata": {},
   "source": [
    "#### Ejercicio 1\n",
    "Este ejercicio simplemente busca repasar lo que aprendimos sobre definición de variables. Definí tres variables con un nombre combinado (al menos dos palabras): \n",
    "(a) Una siguiendo las buenas prácticas. \n",
    "(b) Hacer lo mismo de manera técnicamente correcta (sin error) pero sin seguir las buenas prácticas. \n",
    "(c) Intentar definir una variable con un nombre inacceptable (genera error)."
   ]
  },
  {
   "cell_type": "code",
   "execution_count": null,
   "metadata": {
    "collapsed": true
   },
   "outputs": [],
   "source": [
    "#TP 1 - PARTE 1\n",
    "##EJERCICIO 1\n",
    "# Caso A: definimos variables de la forma correcta\n",
    "integrantes_grupo = 'pilar sebastian sofia'\n",
    "print(integrantes_grupo)\n",
    "\n",
    "#Caso B: usamos mayúsculas *que no es ideal*\n",
    "Variable = 'Pilar, Sebastián y Sofía'\n",
    "print (Variable)\n",
    "\n",
    "# Caso C (acá abajo debería saltar un error): empezamos con un número y usamos guión medio\n",
    "\n",
    "1-integrantes = 'pilar sebastián sofia'\n"
   ]
  },
  {
   "cell_type": "markdown",
   "metadata": {},
   "source": [
    "#### Ejercicio 2\n",
    "Este ejercicio trata sobre la sustitución de variables y el uso de variables temporales para hacerlo. Las variables temporales y la sustitución de valores termina siendo útil en algunos loops. Los pasos a seguir son: (a) definir variables A y B (cuyos valores buscaremos invertir); (b) definir una variable temporal que resguarde el valor de B; (c) sustitución (asignar B igual a A y también A igual al valor original de B); (d) imprimir valores para verificar."
   ]
  },
  {
   "cell_type": "code",
   "execution_count": 18,
   "metadata": {},
   "outputs": [
    {
     "name": "stdout",
     "output_type": "stream",
     "text": [
      "2\n",
      "1\n"
     ]
    }
   ],
   "source": [
    "#TP 1 - PARTE 1\n",
    "##EJERCICIO 2\n",
    "\n",
    "# Definir variables A y B, \n",
    "a = 1\n",
    "b = 2\n",
    "\n",
    "# Definir variable temporal \"tmp\" igual a B (la variable, no el valor)\n",
    "\n",
    "tmp = copy.copy(b)\n",
    "\n",
    "# Ahora sustituir variables: variable B igual a variable A (la variable, no el\n",
    "# valor) y viceversa.\n",
    "b = a\n",
    "a = tmp\n",
    "\n",
    "# Verifiquemos resultados: imprimir variables A y B\n",
    "print (a)\n",
    "print (b)"
   ]
  },
  {
   "cell_type": "markdown",
   "metadata": {},
   "source": [
    "#### Ejercicio 3\n",
    "Pongamos en práctica el uso de range() en un for loop. \n",
    "\n",
    "Construir un for loop usando un range(). El range debe ser entre los valores que quieran (con una diferencia mínima de 15 entre start y stop), en incrementos de 3 unidades. Dentro del loop, implementar una sentencia condicional que imprimar una leyenda indicando si el input es par o impar.\n",
    "\n",
    "Nota: busquen en internet como usar range(). Ej: https://pynative.com/python-range-function/#h-range-start-stop-step"
   ]
  },
  {
   "cell_type": "code",
   "execution_count": null,
   "metadata": {
    "collapsed": true
   },
   "outputs": [],
   "source": [
    "#TP 1 - PARTE 1\n",
    "##EJERCICIO 3\n",
    "\n",
    "for i in range(0,50,3):\n",
    "    if i % 2 == 0:\n",
    "        print (i, \"es par\")\n",
    "    else:\n",
    "        print (i, \"es impar\")"
   ]
  },
  {
   "cell_type": "markdown",
   "metadata": {},
   "source": [
    "#### Ejercicio 4\n",
    "Para practicar el uso de condiciones lógicas, construyamos una sentencia condicional que verifique si un año es bisiesto o no. Para que un año sea bisiesto debe cumplir una de dos condiciones:\n",
    "\n",
    "(a) que sea divisible por 400; o\n",
    "\n",
    "(b) que sea divisible por 4 y no sea divisible por 100\n",
    "\n",
    "Nótese que son dos condiciones, dónde la segunda condición tiene dos componentes. Prueben la sentencia con una serie de valores para verificar que funcione."
   ]
  },
  {
   "cell_type": "code",
   "execution_count": null,
   "metadata": {
    "collapsed": true
   },
   "outputs": [],
   "source": [
    "#TP 1 - PARTE 1\n",
    "##EJERCICIO 4\n",
    "\n",
    "for i in range(1999,2010,1):\n",
    "    if (i%400 == 0) or (i%4 == 0 and i%100!=0):\n",
    "        print (i, \"es bisiesto\")\n",
    "    else:\n",
    "        print (i, \"no es bisiesto\")"
   ]
  },
  {
   "cell_type": "markdown",
   "metadata": {
    "collapsed": true
   },
   "source": [
    "#### Ejercicio 5\n",
    "Pongamos en práctica identificar el type() de cada variable. A continuación tenemos una lista con elementos de diferentes tipos. Construyan un for loop que itere sobre la lista e imprima un cartel indicando el tipo de dato que hay en cada caso.\n",
    "\n",
    "_Ayuda: hay por lo menos dos maneras de hacer esto. En una se usa una sentencia condicional, en otra hay que usar casteo para evitar un error. Ambas son aceptables._\n"
   ]
  },
  {
   "cell_type": "code",
   "execution_count": 19,
   "metadata": {},
   "outputs": [
    {
     "name": "stdout",
     "output_type": "stream",
     "text": [
      "pilar <class 'str'>\n",
      "sebastian <class 'str'>\n",
      "sofia <class 'str'>\n",
      "udesa <class 'str'>\n",
      "5 <class 'int'>\n",
      "5.345 <class 'float'>\n"
     ]
    }
   ],
   "source": [
    "#TP 1 - PARTE 1\n",
    "##EJERCICIO 5\n",
    "\n",
    "lista = ['pilar', 'sebastian', 'sofia', 'udesa', 5, 5.345]\n",
    "\n",
    "for i in lista:\n",
    "        print (i, type (i))"
   ]
  },
  {
   "cell_type": "markdown",
   "metadata": {},
   "source": [
    "#### Ejercicio 6\n",
    "Ahora definan ustedes una lista, en la que los primeros 4 elementos sean palabras (strings) la 5ta no sea string, y la 6ta sea string. Construyan un for loop que corra por la lista y que imprima la palabra y la longitud de la misma. Que el loop contenga una sentencia condicional que imprima un cartel \"Elemento no es un string: < el elemento > | < class del elemento >\" para los casos dónde el elemento evaluado no sea string.\n"
   ]
  },
  {
   "cell_type": "code",
   "execution_count": 62,
   "metadata": {},
   "outputs": [
    {
     "name": "stdout",
     "output_type": "stream",
     "text": [
      "pilar 5\n",
      "sebastian 9\n",
      "sofia 5\n",
      "udesa 5\n",
      "Elemento no es un string: 5 <class 'int'>\n",
      "san andres 10\n"
     ]
    }
   ],
   "source": [
    "#TP 1 - PARTE 1\n",
    "##EJERCICIO 6\n",
    "\n",
    "#armamos una lista con diferentes elementos\n",
    "lista = ['pilar', 'sebastian', 'sofia', 'udesa', 5, 'san andres']\n",
    "\n",
    "#armamos el loop\n",
    "for i in lista:\n",
    "    if type(i) != str:\n",
    "     print (\"Elemento no es un string:\",i, type(i) )\n",
    "    else:\n",
    "     print (i, len(i))"
   ]
  },
  {
   "cell_type": "markdown",
   "metadata": {},
   "source": [
    "#### Ejercicio 7\n",
    "Argentina tiene una representación legislativa proporcional en la cual la cantidad de diputados se debería ajustar según el tamaño de población de cada provincia. Otra característica de la representación legislativa del país es que hay una cantidad mínima de diputados por provincia (5). Esto genera un desbalance en la cantidad de ciudadanos por cada representante en el Congreso entre provincias.\n",
    "\n",
    "A continuación preparamos algunos ejemplos, dividiendo la población de cada provincia (según el Censo 2010) por la cantida de representantes en el Congreso para esa misma jurisdicción. También armamos el equivalente para el total país y una lista con los valores provinciales.\n",
    "\n",
    "En este ejercicio les pedimos que construyan un for loop que itere sobre la lista definida y compare cada valor provincial contra el valor de proporcionalidad directa (la variable argentina). El loop debe imprimir una leyenda que indique si la provincia está sobrerepresentada, subrepresentada o con representación proporcional. Además, queremos que el mismo loop compare los valores de las provincias sobrerepresentadas y que guarde el valor de la provincia con mayor sobrerepresentación. Luego del loop impriman este valor así podemos ver que haya funcionado.\n",
    "\n",
    "_Ayuda: el ejercicio 2 les puede ayudar para resolver parte de este problema._\n",
    "\n",
    "Fuente para población: https://es.wikipedia.org/wiki/Demograf%C3%ADa_de_Argentina\n",
    "\n",
    "Fuente para representantes: https://es.wikipedia.org/wiki/C%C3%A1mara_de_Diputados_de_la_Naci%C3%B3n_Argentina"
   ]
  },
  {
   "cell_type": "code",
   "execution_count": 41,
   "metadata": {},
   "outputs": [],
   "source": [
    "# valor de referencia: proporcionalidad\n",
    "argentina = 40117096 / 256\n",
    "\n",
    "# creamos variables para una selección de jurisdicciones\n",
    "catamarca = 367820 / 5\n",
    "buenos_aires = 15594428 / 70\n",
    "misiones = 1097829 / 7\n",
    "tierra_fuego = 126190 / 5\n",
    "tucuman = 1592878 / 9\n",
    "\n",
    "# definimos la lista para iterar\n",
    "lista_provincias = [catamarca, buenos_aires, misiones, tierra_fuego, tucuman]\n",
    "lista_provincias_2 = [ 'catamarca', 'buenos aires', 'misiones', 'tierra del fuego', 'tucuman']"
   ]
  },
  {
   "cell_type": "code",
   "execution_count": 61,
   "metadata": {},
   "outputs": [
    {
     "name": "stdout",
     "output_type": "stream",
     "text": [
      "catamarca está subrepresentada\n",
      "buenos aires está subrepresentada\n",
      "misiones está subrepresentada\n",
      "tierra del fuego está subrepresentada\n",
      "tucuman está subrepresentada\n"
     ]
    },
    {
     "ename": "NameError",
     "evalue": "name 'mayor' is not defined",
     "output_type": "error",
     "traceback": [
      "\u001b[1;31m---------------------------------------------------------------------------\u001b[0m",
      "\u001b[1;31mNameError\u001b[0m                                 Traceback (most recent call last)",
      "\u001b[1;32m<ipython-input-61-7aec60a73d87>\u001b[0m in \u001b[0;36m<module>\u001b[1;34m\u001b[0m\n\u001b[0;32m     11\u001b[0m     \u001b[1;32melse\u001b[0m\u001b[1;33m:\u001b[0m\u001b[1;33m\u001b[0m\u001b[1;33m\u001b[0m\u001b[0m\n\u001b[0;32m     12\u001b[0m         \u001b[0mprint\u001b[0m \u001b[1;33m(\u001b[0m\u001b[0mlista_provincias_2\u001b[0m\u001b[1;33m[\u001b[0m\u001b[0mi\u001b[0m\u001b[1;33m]\u001b[0m\u001b[1;33m,\u001b[0m \u001b[1;34m\"tiene representación proporcional\"\u001b[0m\u001b[1;33m)\u001b[0m\u001b[1;33m\u001b[0m\u001b[1;33m\u001b[0m\u001b[0m\n\u001b[1;32m---> 13\u001b[1;33m \u001b[0mprint\u001b[0m \u001b[1;33m(\u001b[0m\u001b[0mmayor\u001b[0m\u001b[1;33m)\u001b[0m\u001b[1;33m\u001b[0m\u001b[1;33m\u001b[0m\u001b[0m\n\u001b[0m",
      "\u001b[1;31mNameError\u001b[0m: name 'mayor' is not defined"
     ]
    }
   ],
   "source": [
    "#TP 1 - PARTE 1\n",
    "##EJERCICIO 7\n",
    "# resuelvan acá:\n",
    "\n",
    "for i, provincia in enumerate (lista_provincias):\n",
    "    if i > argentina:\n",
    "        print (lista_provincias_2[i], \"está sobrerrepresentada\")\n",
    "        mayor == copy.copy(i)\n",
    "    elif i < argentina:\n",
    "        print (lista_provincias_2[i], \"está subrepresentada\")\n",
    "    else:\n",
    "        print (lista_provincias_2[i], \"tiene representación proporcional\")\n",
    "print (mayor)\n"
   ]
  },
  {
   "cell_type": "markdown",
   "metadata": {},
   "source": [
    "#### Ejercicio 8\n",
    "Si buscáramos minimizar la subrepresentación de la provincia de Buenos Aires, ¿cuántos representantes debería tener según el Censo 2010? Usemos el mismo criterio de sub/sobrerepresentacion que en el ejercicio anterior: población sobre cantidad de representantes.\n",
    "\n",
    "Para responder esta pregunta construyan un while loop que incremente de a uno la cantidad de representantes de la Provincia hasta minimizar la subrepresentación. En cada iteración impriman un cartel que diga: \"Se agregó un represntante, el total ahora es X\" dónde X es el número de representantes simulado."
   ]
  },
  {
   "cell_type": "code",
   "execution_count": 32,
   "metadata": {},
   "outputs": [
    {
     "name": "stdout",
     "output_type": "stream",
     "text": [
      "Se agregó un representante, el total ahora es 71\n",
      "Se agregó un representante, el total ahora es 72\n",
      "Se agregó un representante, el total ahora es 73\n",
      "Se agregó un representante, el total ahora es 74\n",
      "Se agregó un representante, el total ahora es 75\n",
      "Se agregó un representante, el total ahora es 76\n",
      "Se agregó un representante, el total ahora es 77\n",
      "Se agregó un representante, el total ahora es 78\n",
      "Se agregó un representante, el total ahora es 79\n",
      "Se agregó un representante, el total ahora es 80\n",
      "Se agregó un representante, el total ahora es 81\n",
      "Se agregó un representante, el total ahora es 82\n",
      "Se agregó un representante, el total ahora es 83\n",
      "Se agregó un representante, el total ahora es 84\n",
      "Se agregó un representante, el total ahora es 85\n",
      "Se agregó un representante, el total ahora es 86\n",
      "Se agregó un representante, el total ahora es 87\n",
      "Se agregó un representante, el total ahora es 88\n",
      "Se agregó un representante, el total ahora es 89\n",
      "Se agregó un representante, el total ahora es 90\n",
      "Se agregó un representante, el total ahora es 91\n",
      "Se agregó un representante, el total ahora es 92\n",
      "Se agregó un representante, el total ahora es 93\n",
      "Se agregó un representante, el total ahora es 94\n",
      "Se agregó un representante, el total ahora es 95\n",
      "Se agregó un representante, el total ahora es 96\n",
      "Se agregó un representante, el total ahora es 97\n",
      "Se agregó un representante, el total ahora es 98\n",
      "Se agregó un representante, el total ahora es 99\n",
      "Se agregó un representante, el total ahora es 100\n",
      "el número óptimo de representantes de pba es 100\n"
     ]
    }
   ],
   "source": [
    "#TP 1 - PARTE 1\n",
    "##EJERCICIO 8\n",
    "# estos son los valores de la provincia\n",
    "representantes_pba = 70\n",
    "poblacion2010_pba = 15594428\n",
    "\n",
    "# y el valor de referencia nacional\n",
    "argentina = 40117096 / 256\n",
    "\n",
    "#Resuelvan acá:\n",
    "\n",
    "#defino cantidad optima\n",
    "optimo = 40117096 / 256\n",
    "\n",
    "#while loop\n",
    "while poblacion2010_pba/representantes_pba > argentina:\n",
    "    representantes_pba += 1\n",
    "    print ('Se agregó un representante, el total ahora es', representantes_pba)\n",
    "print ('El número óptimo de representantes de pba es', representantes_pba)\n"
   ]
  }
 ],
 "metadata": {
  "anaconda-cloud": {},
  "kernelspec": {
   "display_name": "Python 3",
   "language": "python",
   "name": "python3"
  },
  "language_info": {
   "codemirror_mode": {
    "name": "ipython",
    "version": 3
   },
   "file_extension": ".py",
   "mimetype": "text/x-python",
   "name": "python",
   "nbconvert_exporter": "python",
   "pygments_lexer": "ipython3",
   "version": "3.7.4"
  }
 },
 "nbformat": 4,
 "nbformat_minor": 2
}
